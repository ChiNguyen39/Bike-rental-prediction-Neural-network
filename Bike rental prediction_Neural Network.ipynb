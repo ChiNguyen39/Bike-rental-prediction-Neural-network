{
 "cells": [
  {
   "cell_type": "markdown",
   "id": "495fcef4",
   "metadata": {},
   "source": [
    "### Bike rental prediction using Neural Networks\n",
    "Bike Share data: https://archive.ics.uci.edu/ml/datasets/bike+sharing+dataset\n",
    "\n",
    "In this project, I will train a regression neural network to predict the amount of bike rentals each hour. <br>\n",
    "Then, try different network architectures to pick the best one.\n"
   ]
  },
  {
   "cell_type": "code",
   "execution_count": 1,
   "id": "4136e8c0",
   "metadata": {},
   "outputs": [],
   "source": [
    "#general stuff\n",
    "import pandas as pd\n",
    "import matplotlib.pyplot as plt\n",
    "import matplotlib.image as mpimg\n",
    "import seaborn as sns\n",
    "import numpy as np\n",
    "%matplotlib inline\n",
    "#models will be used\n",
    "import keras\n",
    "from sklearn.model_selection import train_test_split, cross_validate\n",
    "from sklearn.neural_network import MLPRegressor\n",
    "import statsmodels.api as sm\n",
    "from sklearn.metrics import mean_squared_error, r2_score\n",
    "import warnings\n",
    "warnings.filterwarnings(\"ignore\")"
   ]
  },
  {
   "cell_type": "code",
   "execution_count": 3,
   "id": "a931c252",
   "metadata": {},
   "outputs": [],
   "source": [
    "hr_df = pd.read_csv('/Users/kienguyen/Documents/DATA SCIENCE/Bike-Sharing-Dataset/hour.csv', index_col='instant')"
   ]
  },
  {
   "cell_type": "code",
   "execution_count": 4,
   "id": "2e35851e",
   "metadata": {},
   "outputs": [
    {
     "data": {
      "text/html": [
       "<div>\n",
       "<style scoped>\n",
       "    .dataframe tbody tr th:only-of-type {\n",
       "        vertical-align: middle;\n",
       "    }\n",
       "\n",
       "    .dataframe tbody tr th {\n",
       "        vertical-align: top;\n",
       "    }\n",
       "\n",
       "    .dataframe thead th {\n",
       "        text-align: right;\n",
       "    }\n",
       "</style>\n",
       "<table border=\"1\" class=\"dataframe\">\n",
       "  <thead>\n",
       "    <tr style=\"text-align: right;\">\n",
       "      <th></th>\n",
       "      <th>dteday</th>\n",
       "      <th>season</th>\n",
       "      <th>yr</th>\n",
       "      <th>mnth</th>\n",
       "      <th>hr</th>\n",
       "      <th>holiday</th>\n",
       "      <th>weekday</th>\n",
       "      <th>workingday</th>\n",
       "      <th>weathersit</th>\n",
       "      <th>temp</th>\n",
       "      <th>atemp</th>\n",
       "      <th>hum</th>\n",
       "      <th>windspeed</th>\n",
       "      <th>casual</th>\n",
       "      <th>registered</th>\n",
       "      <th>cnt</th>\n",
       "    </tr>\n",
       "    <tr>\n",
       "      <th>instant</th>\n",
       "      <th></th>\n",
       "      <th></th>\n",
       "      <th></th>\n",
       "      <th></th>\n",
       "      <th></th>\n",
       "      <th></th>\n",
       "      <th></th>\n",
       "      <th></th>\n",
       "      <th></th>\n",
       "      <th></th>\n",
       "      <th></th>\n",
       "      <th></th>\n",
       "      <th></th>\n",
       "      <th></th>\n",
       "      <th></th>\n",
       "      <th></th>\n",
       "    </tr>\n",
       "  </thead>\n",
       "  <tbody>\n",
       "    <tr>\n",
       "      <th>1</th>\n",
       "      <td>2011-01-01</td>\n",
       "      <td>1</td>\n",
       "      <td>0</td>\n",
       "      <td>1</td>\n",
       "      <td>0</td>\n",
       "      <td>0</td>\n",
       "      <td>6</td>\n",
       "      <td>0</td>\n",
       "      <td>1</td>\n",
       "      <td>0.24</td>\n",
       "      <td>0.2879</td>\n",
       "      <td>0.81</td>\n",
       "      <td>0.0000</td>\n",
       "      <td>3</td>\n",
       "      <td>13</td>\n",
       "      <td>16</td>\n",
       "    </tr>\n",
       "    <tr>\n",
       "      <th>2</th>\n",
       "      <td>2011-01-01</td>\n",
       "      <td>1</td>\n",
       "      <td>0</td>\n",
       "      <td>1</td>\n",
       "      <td>1</td>\n",
       "      <td>0</td>\n",
       "      <td>6</td>\n",
       "      <td>0</td>\n",
       "      <td>1</td>\n",
       "      <td>0.22</td>\n",
       "      <td>0.2727</td>\n",
       "      <td>0.80</td>\n",
       "      <td>0.0000</td>\n",
       "      <td>8</td>\n",
       "      <td>32</td>\n",
       "      <td>40</td>\n",
       "    </tr>\n",
       "    <tr>\n",
       "      <th>3</th>\n",
       "      <td>2011-01-01</td>\n",
       "      <td>1</td>\n",
       "      <td>0</td>\n",
       "      <td>1</td>\n",
       "      <td>2</td>\n",
       "      <td>0</td>\n",
       "      <td>6</td>\n",
       "      <td>0</td>\n",
       "      <td>1</td>\n",
       "      <td>0.22</td>\n",
       "      <td>0.2727</td>\n",
       "      <td>0.80</td>\n",
       "      <td>0.0000</td>\n",
       "      <td>5</td>\n",
       "      <td>27</td>\n",
       "      <td>32</td>\n",
       "    </tr>\n",
       "    <tr>\n",
       "      <th>4</th>\n",
       "      <td>2011-01-01</td>\n",
       "      <td>1</td>\n",
       "      <td>0</td>\n",
       "      <td>1</td>\n",
       "      <td>3</td>\n",
       "      <td>0</td>\n",
       "      <td>6</td>\n",
       "      <td>0</td>\n",
       "      <td>1</td>\n",
       "      <td>0.24</td>\n",
       "      <td>0.2879</td>\n",
       "      <td>0.75</td>\n",
       "      <td>0.0000</td>\n",
       "      <td>3</td>\n",
       "      <td>10</td>\n",
       "      <td>13</td>\n",
       "    </tr>\n",
       "    <tr>\n",
       "      <th>5</th>\n",
       "      <td>2011-01-01</td>\n",
       "      <td>1</td>\n",
       "      <td>0</td>\n",
       "      <td>1</td>\n",
       "      <td>4</td>\n",
       "      <td>0</td>\n",
       "      <td>6</td>\n",
       "      <td>0</td>\n",
       "      <td>1</td>\n",
       "      <td>0.24</td>\n",
       "      <td>0.2879</td>\n",
       "      <td>0.75</td>\n",
       "      <td>0.0000</td>\n",
       "      <td>0</td>\n",
       "      <td>1</td>\n",
       "      <td>1</td>\n",
       "    </tr>\n",
       "    <tr>\n",
       "      <th>...</th>\n",
       "      <td>...</td>\n",
       "      <td>...</td>\n",
       "      <td>...</td>\n",
       "      <td>...</td>\n",
       "      <td>...</td>\n",
       "      <td>...</td>\n",
       "      <td>...</td>\n",
       "      <td>...</td>\n",
       "      <td>...</td>\n",
       "      <td>...</td>\n",
       "      <td>...</td>\n",
       "      <td>...</td>\n",
       "      <td>...</td>\n",
       "      <td>...</td>\n",
       "      <td>...</td>\n",
       "      <td>...</td>\n",
       "    </tr>\n",
       "    <tr>\n",
       "      <th>17375</th>\n",
       "      <td>2012-12-31</td>\n",
       "      <td>1</td>\n",
       "      <td>1</td>\n",
       "      <td>12</td>\n",
       "      <td>19</td>\n",
       "      <td>0</td>\n",
       "      <td>1</td>\n",
       "      <td>1</td>\n",
       "      <td>2</td>\n",
       "      <td>0.26</td>\n",
       "      <td>0.2576</td>\n",
       "      <td>0.60</td>\n",
       "      <td>0.1642</td>\n",
       "      <td>11</td>\n",
       "      <td>108</td>\n",
       "      <td>119</td>\n",
       "    </tr>\n",
       "    <tr>\n",
       "      <th>17376</th>\n",
       "      <td>2012-12-31</td>\n",
       "      <td>1</td>\n",
       "      <td>1</td>\n",
       "      <td>12</td>\n",
       "      <td>20</td>\n",
       "      <td>0</td>\n",
       "      <td>1</td>\n",
       "      <td>1</td>\n",
       "      <td>2</td>\n",
       "      <td>0.26</td>\n",
       "      <td>0.2576</td>\n",
       "      <td>0.60</td>\n",
       "      <td>0.1642</td>\n",
       "      <td>8</td>\n",
       "      <td>81</td>\n",
       "      <td>89</td>\n",
       "    </tr>\n",
       "    <tr>\n",
       "      <th>17377</th>\n",
       "      <td>2012-12-31</td>\n",
       "      <td>1</td>\n",
       "      <td>1</td>\n",
       "      <td>12</td>\n",
       "      <td>21</td>\n",
       "      <td>0</td>\n",
       "      <td>1</td>\n",
       "      <td>1</td>\n",
       "      <td>1</td>\n",
       "      <td>0.26</td>\n",
       "      <td>0.2576</td>\n",
       "      <td>0.60</td>\n",
       "      <td>0.1642</td>\n",
       "      <td>7</td>\n",
       "      <td>83</td>\n",
       "      <td>90</td>\n",
       "    </tr>\n",
       "    <tr>\n",
       "      <th>17378</th>\n",
       "      <td>2012-12-31</td>\n",
       "      <td>1</td>\n",
       "      <td>1</td>\n",
       "      <td>12</td>\n",
       "      <td>22</td>\n",
       "      <td>0</td>\n",
       "      <td>1</td>\n",
       "      <td>1</td>\n",
       "      <td>1</td>\n",
       "      <td>0.26</td>\n",
       "      <td>0.2727</td>\n",
       "      <td>0.56</td>\n",
       "      <td>0.1343</td>\n",
       "      <td>13</td>\n",
       "      <td>48</td>\n",
       "      <td>61</td>\n",
       "    </tr>\n",
       "    <tr>\n",
       "      <th>17379</th>\n",
       "      <td>2012-12-31</td>\n",
       "      <td>1</td>\n",
       "      <td>1</td>\n",
       "      <td>12</td>\n",
       "      <td>23</td>\n",
       "      <td>0</td>\n",
       "      <td>1</td>\n",
       "      <td>1</td>\n",
       "      <td>1</td>\n",
       "      <td>0.26</td>\n",
       "      <td>0.2727</td>\n",
       "      <td>0.65</td>\n",
       "      <td>0.1343</td>\n",
       "      <td>12</td>\n",
       "      <td>37</td>\n",
       "      <td>49</td>\n",
       "    </tr>\n",
       "  </tbody>\n",
       "</table>\n",
       "<p>17379 rows × 16 columns</p>\n",
       "</div>"
      ],
      "text/plain": [
       "             dteday  season  yr  mnth  hr  holiday  weekday  workingday  \\\n",
       "instant                                                                   \n",
       "1        2011-01-01       1   0     1   0        0        6           0   \n",
       "2        2011-01-01       1   0     1   1        0        6           0   \n",
       "3        2011-01-01       1   0     1   2        0        6           0   \n",
       "4        2011-01-01       1   0     1   3        0        6           0   \n",
       "5        2011-01-01       1   0     1   4        0        6           0   \n",
       "...             ...     ...  ..   ...  ..      ...      ...         ...   \n",
       "17375    2012-12-31       1   1    12  19        0        1           1   \n",
       "17376    2012-12-31       1   1    12  20        0        1           1   \n",
       "17377    2012-12-31       1   1    12  21        0        1           1   \n",
       "17378    2012-12-31       1   1    12  22        0        1           1   \n",
       "17379    2012-12-31       1   1    12  23        0        1           1   \n",
       "\n",
       "         weathersit  temp   atemp   hum  windspeed  casual  registered  cnt  \n",
       "instant                                                                      \n",
       "1                 1  0.24  0.2879  0.81     0.0000       3          13   16  \n",
       "2                 1  0.22  0.2727  0.80     0.0000       8          32   40  \n",
       "3                 1  0.22  0.2727  0.80     0.0000       5          27   32  \n",
       "4                 1  0.24  0.2879  0.75     0.0000       3          10   13  \n",
       "5                 1  0.24  0.2879  0.75     0.0000       0           1    1  \n",
       "...             ...   ...     ...   ...        ...     ...         ...  ...  \n",
       "17375             2  0.26  0.2576  0.60     0.1642      11         108  119  \n",
       "17376             2  0.26  0.2576  0.60     0.1642       8          81   89  \n",
       "17377             1  0.26  0.2576  0.60     0.1642       7          83   90  \n",
       "17378             1  0.26  0.2727  0.56     0.1343      13          48   61  \n",
       "17379             1  0.26  0.2727  0.65     0.1343      12          37   49  \n",
       "\n",
       "[17379 rows x 16 columns]"
      ]
     },
     "execution_count": 4,
     "metadata": {},
     "output_type": "execute_result"
    }
   ],
   "source": [
    "hr_df"
   ]
  },
  {
   "cell_type": "code",
   "execution_count": 5,
   "id": "06df913a",
   "metadata": {},
   "outputs": [
    {
     "name": "stdout",
     "output_type": "stream",
     "text": [
      "<class 'pandas.core.frame.DataFrame'>\n",
      "Int64Index: 17379 entries, 1 to 17379\n",
      "Data columns (total 16 columns):\n",
      " #   Column      Non-Null Count  Dtype  \n",
      "---  ------      --------------  -----  \n",
      " 0   dteday      17379 non-null  object \n",
      " 1   season      17379 non-null  int64  \n",
      " 2   yr          17379 non-null  int64  \n",
      " 3   mnth        17379 non-null  int64  \n",
      " 4   hr          17379 non-null  int64  \n",
      " 5   holiday     17379 non-null  int64  \n",
      " 6   weekday     17379 non-null  int64  \n",
      " 7   workingday  17379 non-null  int64  \n",
      " 8   weathersit  17379 non-null  int64  \n",
      " 9   temp        17379 non-null  float64\n",
      " 10  atemp       17379 non-null  float64\n",
      " 11  hum         17379 non-null  float64\n",
      " 12  windspeed   17379 non-null  float64\n",
      " 13  casual      17379 non-null  int64  \n",
      " 14  registered  17379 non-null  int64  \n",
      " 15  cnt         17379 non-null  int64  \n",
      "dtypes: float64(4), int64(11), object(1)\n",
      "memory usage: 2.3+ MB\n"
     ]
    }
   ],
   "source": [
    "hr_df.info()"
   ]
  },
  {
   "cell_type": "code",
   "execution_count": 6,
   "id": "50d2e5ac",
   "metadata": {},
   "outputs": [
    {
     "data": {
      "text/html": [
       "<div>\n",
       "<style scoped>\n",
       "    .dataframe tbody tr th:only-of-type {\n",
       "        vertical-align: middle;\n",
       "    }\n",
       "\n",
       "    .dataframe tbody tr th {\n",
       "        vertical-align: top;\n",
       "    }\n",
       "\n",
       "    .dataframe thead th {\n",
       "        text-align: right;\n",
       "    }\n",
       "</style>\n",
       "<table border=\"1\" class=\"dataframe\">\n",
       "  <thead>\n",
       "    <tr style=\"text-align: right;\">\n",
       "      <th></th>\n",
       "      <th>season</th>\n",
       "      <th>yr</th>\n",
       "      <th>mnth</th>\n",
       "      <th>hr</th>\n",
       "      <th>holiday</th>\n",
       "      <th>weekday</th>\n",
       "      <th>workingday</th>\n",
       "      <th>weathersit</th>\n",
       "      <th>temp</th>\n",
       "      <th>atemp</th>\n",
       "      <th>hum</th>\n",
       "      <th>windspeed</th>\n",
       "      <th>casual</th>\n",
       "      <th>registered</th>\n",
       "      <th>cnt</th>\n",
       "    </tr>\n",
       "  </thead>\n",
       "  <tbody>\n",
       "    <tr>\n",
       "      <th>count</th>\n",
       "      <td>17379.000000</td>\n",
       "      <td>17379.000000</td>\n",
       "      <td>17379.000000</td>\n",
       "      <td>17379.000000</td>\n",
       "      <td>17379.000000</td>\n",
       "      <td>17379.000000</td>\n",
       "      <td>17379.000000</td>\n",
       "      <td>17379.000000</td>\n",
       "      <td>17379.000000</td>\n",
       "      <td>17379.000000</td>\n",
       "      <td>17379.000000</td>\n",
       "      <td>17379.000000</td>\n",
       "      <td>17379.000000</td>\n",
       "      <td>17379.000000</td>\n",
       "      <td>17379.000000</td>\n",
       "    </tr>\n",
       "    <tr>\n",
       "      <th>mean</th>\n",
       "      <td>2.501640</td>\n",
       "      <td>0.502561</td>\n",
       "      <td>6.537775</td>\n",
       "      <td>11.546752</td>\n",
       "      <td>0.028770</td>\n",
       "      <td>3.003683</td>\n",
       "      <td>0.682721</td>\n",
       "      <td>1.425283</td>\n",
       "      <td>0.496987</td>\n",
       "      <td>0.475775</td>\n",
       "      <td>0.627229</td>\n",
       "      <td>0.190098</td>\n",
       "      <td>35.676218</td>\n",
       "      <td>153.786869</td>\n",
       "      <td>189.463088</td>\n",
       "    </tr>\n",
       "    <tr>\n",
       "      <th>std</th>\n",
       "      <td>1.106918</td>\n",
       "      <td>0.500008</td>\n",
       "      <td>3.438776</td>\n",
       "      <td>6.914405</td>\n",
       "      <td>0.167165</td>\n",
       "      <td>2.005771</td>\n",
       "      <td>0.465431</td>\n",
       "      <td>0.639357</td>\n",
       "      <td>0.192556</td>\n",
       "      <td>0.171850</td>\n",
       "      <td>0.192930</td>\n",
       "      <td>0.122340</td>\n",
       "      <td>49.305030</td>\n",
       "      <td>151.357286</td>\n",
       "      <td>181.387599</td>\n",
       "    </tr>\n",
       "    <tr>\n",
       "      <th>min</th>\n",
       "      <td>1.000000</td>\n",
       "      <td>0.000000</td>\n",
       "      <td>1.000000</td>\n",
       "      <td>0.000000</td>\n",
       "      <td>0.000000</td>\n",
       "      <td>0.000000</td>\n",
       "      <td>0.000000</td>\n",
       "      <td>1.000000</td>\n",
       "      <td>0.020000</td>\n",
       "      <td>0.000000</td>\n",
       "      <td>0.000000</td>\n",
       "      <td>0.000000</td>\n",
       "      <td>0.000000</td>\n",
       "      <td>0.000000</td>\n",
       "      <td>1.000000</td>\n",
       "    </tr>\n",
       "    <tr>\n",
       "      <th>25%</th>\n",
       "      <td>2.000000</td>\n",
       "      <td>0.000000</td>\n",
       "      <td>4.000000</td>\n",
       "      <td>6.000000</td>\n",
       "      <td>0.000000</td>\n",
       "      <td>1.000000</td>\n",
       "      <td>0.000000</td>\n",
       "      <td>1.000000</td>\n",
       "      <td>0.340000</td>\n",
       "      <td>0.333300</td>\n",
       "      <td>0.480000</td>\n",
       "      <td>0.104500</td>\n",
       "      <td>4.000000</td>\n",
       "      <td>34.000000</td>\n",
       "      <td>40.000000</td>\n",
       "    </tr>\n",
       "    <tr>\n",
       "      <th>50%</th>\n",
       "      <td>3.000000</td>\n",
       "      <td>1.000000</td>\n",
       "      <td>7.000000</td>\n",
       "      <td>12.000000</td>\n",
       "      <td>0.000000</td>\n",
       "      <td>3.000000</td>\n",
       "      <td>1.000000</td>\n",
       "      <td>1.000000</td>\n",
       "      <td>0.500000</td>\n",
       "      <td>0.484800</td>\n",
       "      <td>0.630000</td>\n",
       "      <td>0.194000</td>\n",
       "      <td>17.000000</td>\n",
       "      <td>115.000000</td>\n",
       "      <td>142.000000</td>\n",
       "    </tr>\n",
       "    <tr>\n",
       "      <th>75%</th>\n",
       "      <td>3.000000</td>\n",
       "      <td>1.000000</td>\n",
       "      <td>10.000000</td>\n",
       "      <td>18.000000</td>\n",
       "      <td>0.000000</td>\n",
       "      <td>5.000000</td>\n",
       "      <td>1.000000</td>\n",
       "      <td>2.000000</td>\n",
       "      <td>0.660000</td>\n",
       "      <td>0.621200</td>\n",
       "      <td>0.780000</td>\n",
       "      <td>0.253700</td>\n",
       "      <td>48.000000</td>\n",
       "      <td>220.000000</td>\n",
       "      <td>281.000000</td>\n",
       "    </tr>\n",
       "    <tr>\n",
       "      <th>max</th>\n",
       "      <td>4.000000</td>\n",
       "      <td>1.000000</td>\n",
       "      <td>12.000000</td>\n",
       "      <td>23.000000</td>\n",
       "      <td>1.000000</td>\n",
       "      <td>6.000000</td>\n",
       "      <td>1.000000</td>\n",
       "      <td>4.000000</td>\n",
       "      <td>1.000000</td>\n",
       "      <td>1.000000</td>\n",
       "      <td>1.000000</td>\n",
       "      <td>0.850700</td>\n",
       "      <td>367.000000</td>\n",
       "      <td>886.000000</td>\n",
       "      <td>977.000000</td>\n",
       "    </tr>\n",
       "  </tbody>\n",
       "</table>\n",
       "</div>"
      ],
      "text/plain": [
       "             season            yr          mnth            hr       holiday  \\\n",
       "count  17379.000000  17379.000000  17379.000000  17379.000000  17379.000000   \n",
       "mean       2.501640      0.502561      6.537775     11.546752      0.028770   \n",
       "std        1.106918      0.500008      3.438776      6.914405      0.167165   \n",
       "min        1.000000      0.000000      1.000000      0.000000      0.000000   \n",
       "25%        2.000000      0.000000      4.000000      6.000000      0.000000   \n",
       "50%        3.000000      1.000000      7.000000     12.000000      0.000000   \n",
       "75%        3.000000      1.000000     10.000000     18.000000      0.000000   \n",
       "max        4.000000      1.000000     12.000000     23.000000      1.000000   \n",
       "\n",
       "            weekday    workingday    weathersit          temp         atemp  \\\n",
       "count  17379.000000  17379.000000  17379.000000  17379.000000  17379.000000   \n",
       "mean       3.003683      0.682721      1.425283      0.496987      0.475775   \n",
       "std        2.005771      0.465431      0.639357      0.192556      0.171850   \n",
       "min        0.000000      0.000000      1.000000      0.020000      0.000000   \n",
       "25%        1.000000      0.000000      1.000000      0.340000      0.333300   \n",
       "50%        3.000000      1.000000      1.000000      0.500000      0.484800   \n",
       "75%        5.000000      1.000000      2.000000      0.660000      0.621200   \n",
       "max        6.000000      1.000000      4.000000      1.000000      1.000000   \n",
       "\n",
       "                hum     windspeed        casual    registered           cnt  \n",
       "count  17379.000000  17379.000000  17379.000000  17379.000000  17379.000000  \n",
       "mean       0.627229      0.190098     35.676218    153.786869    189.463088  \n",
       "std        0.192930      0.122340     49.305030    151.357286    181.387599  \n",
       "min        0.000000      0.000000      0.000000      0.000000      1.000000  \n",
       "25%        0.480000      0.104500      4.000000     34.000000     40.000000  \n",
       "50%        0.630000      0.194000     17.000000    115.000000    142.000000  \n",
       "75%        0.780000      0.253700     48.000000    220.000000    281.000000  \n",
       "max        1.000000      0.850700    367.000000    886.000000    977.000000  "
      ]
     },
     "execution_count": 6,
     "metadata": {},
     "output_type": "execute_result"
    }
   ],
   "source": [
    "hr_df.describe()"
   ]
  },
  {
   "cell_type": "code",
   "execution_count": 7,
   "id": "4749dab1",
   "metadata": {},
   "outputs": [
    {
     "data": {
      "image/png": "[encoded data removed]",
      "text/plain": [
       "<Figure size 1152x1008 with 2 Axes>"
      ]
     },
     "metadata": {
      "needs_background": "light"
     },
     "output_type": "display_data"
    }
   ],
   "source": [
    "corr_matrix = hr_df.corr()\n",
    "fig, ax = plt.subplots(figsize=(16,14))\n",
    "sns.heatmap(corr_matrix, annot=True)\n",
    "ax.set_title('Correlation heatmap of data', fontsize = 18)\n",
    "plt.show()"
   ]
  },
  {
   "cell_type": "markdown",
   "id": "6739839c",
   "metadata": {},
   "source": [
    "According to the correlation heatmap, we can see that 'hum','temp','hr' are feaures having strong correlation with the target variable 'cnt'."
   ]
  },
  {
   "cell_type": "code",
   "execution_count": 8,
   "id": "e9b4708f",
   "metadata": {},
   "outputs": [
    {
     "data": {
      "text/html": [
       "<div>\n",
       "<style scoped>\n",
       "    .dataframe tbody tr th:only-of-type {\n",
       "        vertical-align: middle;\n",
       "    }\n",
       "\n",
       "    .dataframe tbody tr th {\n",
       "        vertical-align: top;\n",
       "    }\n",
       "\n",
       "    .dataframe thead th {\n",
       "        text-align: right;\n",
       "    }\n",
       "</style>\n",
       "<table border=\"1\" class=\"dataframe\">\n",
       "  <thead>\n",
       "    <tr style=\"text-align: right;\">\n",
       "      <th></th>\n",
       "      <th>season</th>\n",
       "      <th>yr</th>\n",
       "      <th>mnth</th>\n",
       "      <th>hr</th>\n",
       "      <th>holiday</th>\n",
       "      <th>weekday</th>\n",
       "      <th>workingday</th>\n",
       "      <th>weathersit</th>\n",
       "      <th>temp</th>\n",
       "      <th>atemp</th>\n",
       "      <th>hum</th>\n",
       "      <th>windspeed</th>\n",
       "      <th>casual</th>\n",
       "      <th>registered</th>\n",
       "      <th>cnt</th>\n",
       "    </tr>\n",
       "    <tr>\n",
       "      <th>instant</th>\n",
       "      <th></th>\n",
       "      <th></th>\n",
       "      <th></th>\n",
       "      <th></th>\n",
       "      <th></th>\n",
       "      <th></th>\n",
       "      <th></th>\n",
       "      <th></th>\n",
       "      <th></th>\n",
       "      <th></th>\n",
       "      <th></th>\n",
       "      <th></th>\n",
       "      <th></th>\n",
       "      <th></th>\n",
       "      <th></th>\n",
       "    </tr>\n",
       "  </thead>\n",
       "  <tbody>\n",
       "    <tr>\n",
       "      <th>1</th>\n",
       "      <td>1</td>\n",
       "      <td>0</td>\n",
       "      <td>1</td>\n",
       "      <td>0</td>\n",
       "      <td>0</td>\n",
       "      <td>6</td>\n",
       "      <td>0</td>\n",
       "      <td>1</td>\n",
       "      <td>0.24</td>\n",
       "      <td>0.2879</td>\n",
       "      <td>0.81</td>\n",
       "      <td>0.0000</td>\n",
       "      <td>3</td>\n",
       "      <td>13</td>\n",
       "      <td>16</td>\n",
       "    </tr>\n",
       "    <tr>\n",
       "      <th>2</th>\n",
       "      <td>1</td>\n",
       "      <td>0</td>\n",
       "      <td>1</td>\n",
       "      <td>1</td>\n",
       "      <td>0</td>\n",
       "      <td>6</td>\n",
       "      <td>0</td>\n",
       "      <td>1</td>\n",
       "      <td>0.22</td>\n",
       "      <td>0.2727</td>\n",
       "      <td>0.80</td>\n",
       "      <td>0.0000</td>\n",
       "      <td>8</td>\n",
       "      <td>32</td>\n",
       "      <td>40</td>\n",
       "    </tr>\n",
       "    <tr>\n",
       "      <th>3</th>\n",
       "      <td>1</td>\n",
       "      <td>0</td>\n",
       "      <td>1</td>\n",
       "      <td>2</td>\n",
       "      <td>0</td>\n",
       "      <td>6</td>\n",
       "      <td>0</td>\n",
       "      <td>1</td>\n",
       "      <td>0.22</td>\n",
       "      <td>0.2727</td>\n",
       "      <td>0.80</td>\n",
       "      <td>0.0000</td>\n",
       "      <td>5</td>\n",
       "      <td>27</td>\n",
       "      <td>32</td>\n",
       "    </tr>\n",
       "    <tr>\n",
       "      <th>4</th>\n",
       "      <td>1</td>\n",
       "      <td>0</td>\n",
       "      <td>1</td>\n",
       "      <td>3</td>\n",
       "      <td>0</td>\n",
       "      <td>6</td>\n",
       "      <td>0</td>\n",
       "      <td>1</td>\n",
       "      <td>0.24</td>\n",
       "      <td>0.2879</td>\n",
       "      <td>0.75</td>\n",
       "      <td>0.0000</td>\n",
       "      <td>3</td>\n",
       "      <td>10</td>\n",
       "      <td>13</td>\n",
       "    </tr>\n",
       "    <tr>\n",
       "      <th>5</th>\n",
       "      <td>1</td>\n",
       "      <td>0</td>\n",
       "      <td>1</td>\n",
       "      <td>4</td>\n",
       "      <td>0</td>\n",
       "      <td>6</td>\n",
       "      <td>0</td>\n",
       "      <td>1</td>\n",
       "      <td>0.24</td>\n",
       "      <td>0.2879</td>\n",
       "      <td>0.75</td>\n",
       "      <td>0.0000</td>\n",
       "      <td>0</td>\n",
       "      <td>1</td>\n",
       "      <td>1</td>\n",
       "    </tr>\n",
       "    <tr>\n",
       "      <th>...</th>\n",
       "      <td>...</td>\n",
       "      <td>...</td>\n",
       "      <td>...</td>\n",
       "      <td>...</td>\n",
       "      <td>...</td>\n",
       "      <td>...</td>\n",
       "      <td>...</td>\n",
       "      <td>...</td>\n",
       "      <td>...</td>\n",
       "      <td>...</td>\n",
       "      <td>...</td>\n",
       "      <td>...</td>\n",
       "      <td>...</td>\n",
       "      <td>...</td>\n",
       "      <td>...</td>\n",
       "    </tr>\n",
       "    <tr>\n",
       "      <th>17375</th>\n",
       "      <td>1</td>\n",
       "      <td>1</td>\n",
       "      <td>12</td>\n",
       "      <td>19</td>\n",
       "      <td>0</td>\n",
       "      <td>1</td>\n",
       "      <td>1</td>\n",
       "      <td>2</td>\n",
       "      <td>0.26</td>\n",
       "      <td>0.2576</td>\n",
       "      <td>0.60</td>\n",
       "      <td>0.1642</td>\n",
       "      <td>11</td>\n",
       "      <td>108</td>\n",
       "      <td>119</td>\n",
       "    </tr>\n",
       "    <tr>\n",
       "      <th>17376</th>\n",
       "      <td>1</td>\n",
       "      <td>1</td>\n",
       "      <td>12</td>\n",
       "      <td>20</td>\n",
       "      <td>0</td>\n",
       "      <td>1</td>\n",
       "      <td>1</td>\n",
       "      <td>2</td>\n",
       "      <td>0.26</td>\n",
       "      <td>0.2576</td>\n",
       "      <td>0.60</td>\n",
       "      <td>0.1642</td>\n",
       "      <td>8</td>\n",
       "      <td>81</td>\n",
       "      <td>89</td>\n",
       "    </tr>\n",
       "    <tr>\n",
       "      <th>17377</th>\n",
       "      <td>1</td>\n",
       "      <td>1</td>\n",
       "      <td>12</td>\n",
       "      <td>21</td>\n",
       "      <td>0</td>\n",
       "      <td>1</td>\n",
       "      <td>1</td>\n",
       "      <td>1</td>\n",
       "      <td>0.26</td>\n",
       "      <td>0.2576</td>\n",
       "      <td>0.60</td>\n",
       "      <td>0.1642</td>\n",
       "      <td>7</td>\n",
       "      <td>83</td>\n",
       "      <td>90</td>\n",
       "    </tr>\n",
       "    <tr>\n",
       "      <th>17378</th>\n",
       "      <td>1</td>\n",
       "      <td>1</td>\n",
       "      <td>12</td>\n",
       "      <td>22</td>\n",
       "      <td>0</td>\n",
       "      <td>1</td>\n",
       "      <td>1</td>\n",
       "      <td>1</td>\n",
       "      <td>0.26</td>\n",
       "      <td>0.2727</td>\n",
       "      <td>0.56</td>\n",
       "      <td>0.1343</td>\n",
       "      <td>13</td>\n",
       "      <td>48</td>\n",
       "      <td>61</td>\n",
       "    </tr>\n",
       "    <tr>\n",
       "      <th>17379</th>\n",
       "      <td>1</td>\n",
       "      <td>1</td>\n",
       "      <td>12</td>\n",
       "      <td>23</td>\n",
       "      <td>0</td>\n",
       "      <td>1</td>\n",
       "      <td>1</td>\n",
       "      <td>1</td>\n",
       "      <td>0.26</td>\n",
       "      <td>0.2727</td>\n",
       "      <td>0.65</td>\n",
       "      <td>0.1343</td>\n",
       "      <td>12</td>\n",
       "      <td>37</td>\n",
       "      <td>49</td>\n",
       "    </tr>\n",
       "  </tbody>\n",
       "</table>\n",
       "<p>17379 rows × 15 columns</p>\n",
       "</div>"
      ],
      "text/plain": [
       "         season  yr  mnth  hr  holiday  weekday  workingday  weathersit  temp  \\\n",
       "instant                                                                         \n",
       "1             1   0     1   0        0        6           0           1  0.24   \n",
       "2             1   0     1   1        0        6           0           1  0.22   \n",
       "3             1   0     1   2        0        6           0           1  0.22   \n",
       "4             1   0     1   3        0        6           0           1  0.24   \n",
       "5             1   0     1   4        0        6           0           1  0.24   \n",
       "...         ...  ..   ...  ..      ...      ...         ...         ...   ...   \n",
       "17375         1   1    12  19        0        1           1           2  0.26   \n",
       "17376         1   1    12  20        0        1           1           2  0.26   \n",
       "17377         1   1    12  21        0        1           1           1  0.26   \n",
       "17378         1   1    12  22        0        1           1           1  0.26   \n",
       "17379         1   1    12  23        0        1           1           1  0.26   \n",
       "\n",
       "          atemp   hum  windspeed  casual  registered  cnt  \n",
       "instant                                                    \n",
       "1        0.2879  0.81     0.0000       3          13   16  \n",
       "2        0.2727  0.80     0.0000       8          32   40  \n",
       "3        0.2727  0.80     0.0000       5          27   32  \n",
       "4        0.2879  0.75     0.0000       3          10   13  \n",
       "5        0.2879  0.75     0.0000       0           1    1  \n",
       "...         ...   ...        ...     ...         ...  ...  \n",
       "17375    0.2576  0.60     0.1642      11         108  119  \n",
       "17376    0.2576  0.60     0.1642       8          81   89  \n",
       "17377    0.2576  0.60     0.1642       7          83   90  \n",
       "17378    0.2727  0.56     0.1343      13          48   61  \n",
       "17379    0.2727  0.65     0.1343      12          37   49  \n",
       "\n",
       "[17379 rows x 15 columns]"
      ]
     },
     "execution_count": 8,
     "metadata": {},
     "output_type": "execute_result"
    }
   ],
   "source": [
    "# Drop 'dteday' column since it is not a numerical feature that contribute to the prediction\n",
    "predict_df = hr_df.drop('dteday',axis=1)\n",
    "predict_df"
   ]
  },
  {
   "cell_type": "code",
   "execution_count": 9,
   "id": "df4e6f42",
   "metadata": {},
   "outputs": [
    {
     "data": {
      "text/plain": [
       "(17379, 15)"
      ]
     },
     "execution_count": 9,
     "metadata": {},
     "output_type": "execute_result"
    }
   ],
   "source": [
    "predict_df.shape"
   ]
  },
  {
   "cell_type": "code",
   "execution_count": 53,
   "id": "7d2cbd1a",
   "metadata": {},
   "outputs": [
    {
     "data": {
      "image/png": "[encoded data removed]",
      "text/plain": [
       "<Figure size 1440x1440 with 16 Axes>"
      ]
     },
     "metadata": {
      "needs_background": "light"
     },
     "output_type": "display_data"
    }
   ],
   "source": [
    "#Check outlier by boxplot\n",
    "fig, axs = plt.subplots(4, 4, figsize=(20, 20))\n",
    "axs = axs.ravel()\n",
    "for i, column in enumerate(predict_df.columns):\n",
    "    sns.boxplot(predict_df[column], ax=axs[i])\n",
    "    axs[i].set_title(column)\n",
    "\n",
    "plt.tight_layout()\n",
    "plt.show()"
   ]
  },
  {
   "cell_type": "code",
   "execution_count": 54,
   "id": "f357af89",
   "metadata": {},
   "outputs": [],
   "source": [
    "outlier_cols = predict_df.drop(['casual','registered','cnt'],axis=1).columns\n",
    "for i in outlier_cols:\n",
    "    q3 = predict_df[i].quantile(0.75)  \n",
    "    q1 = predict_df[i].quantile(0.25)\n",
    "    IQR = q3 - q1\n",
    "    lower_limit = q1 - (IQR * 1.5)\n",
    "    upper_limit = q3 + (IQR * 1.5)\n",
    "    predict_df=predict_df[~((predict_df[i]<(q1-1.5*IQR)) | (predict_df[i]>(q3+1.5*IQR)))]"
   ]
  },
  {
   "cell_type": "code",
   "execution_count": 55,
   "id": "17753ab8",
   "metadata": {},
   "outputs": [
    {
     "data": {
      "image/png": "[encoded data removed]",
      "text/plain": [
       "<Figure size 1440x1440 with 16 Axes>"
      ]
     },
     "metadata": {
      "needs_background": "light"
     },
     "output_type": "display_data"
    }
   ],
   "source": [
    "#Check outlier again\n",
    "fig, axs = plt.subplots(4, 4, figsize=(20, 20))\n",
    "axs = axs.ravel()\n",
    "for i, column in enumerate(predict_df.columns):\n",
    "    sns.boxplot(predict_df[column], ax=axs[i])\n",
    "    axs[i].set_title(column)\n",
    "\n",
    "plt.tight_layout()\n",
    "plt.show()"
   ]
  },
  {
   "cell_type": "markdown",
   "id": "a25d4165",
   "metadata": {},
   "source": [
    "#### Prepare data and fit to Neural Network"
   ]
  },
  {
   "cell_type": "code",
   "execution_count": 56,
   "id": "a14073c7",
   "metadata": {},
   "outputs": [],
   "source": [
    "#gather up names of all the columns\n",
    "cols = predict_df.columns\n",
    "\n",
    "#set the prediction column and the feature columns for KNN\n",
    "prediction_col = 'cnt'\n",
    "feature_cols = [c for c in cols if c != prediction_col]\n",
    "\n",
    "x = predict_df[feature_cols]\n",
    "y = predict_df[prediction_col]\n",
    "\n",
    "#split the dataset into the train and test data\n",
    "x_train, x_test, y_train, y_test = train_test_split(x, y, test_size=0.2, random_state=41)"
   ]
  },
  {
   "cell_type": "code",
   "execution_count": 57,
   "id": "79ef0ce4",
   "metadata": {},
   "outputs": [],
   "source": [
    "from sklearn.preprocessing import StandardScaler  \n",
    "scaler = StandardScaler()  \n",
    "scaler.fit(x_train)\n",
    "\n",
    "x_train = scaler.transform(x_train)  \n",
    "x_test = scaler.transform(x_test)  "
   ]
  },
  {
   "cell_type": "markdown",
   "id": "83c83447",
   "metadata": {},
   "source": [
    "The target variable is numerical hence I will train a Regressor Neural Network to predict the amount of rental bike."
   ]
  },
  {
   "cell_type": "code",
   "execution_count": 58,
   "id": "7f7546d5",
   "metadata": {},
   "outputs": [
    {
     "data": {
      "text/plain": [
       "MLPRegressor(hidden_layer_sizes=(10, 10, 10), max_iter=1000)"
      ]
     },
     "execution_count": 58,
     "metadata": {},
     "output_type": "execute_result"
    }
   ],
   "source": [
    "from sklearn.neural_network import MLPRegressor  \n",
    "\n",
    "mlp = MLPRegressor(hidden_layer_sizes=(10, 10, 10), max_iter=1000)  \n",
    "mlp.fit(x_train, y_train.values.ravel())  "
   ]
  },
  {
   "cell_type": "code",
   "execution_count": 59,
   "id": "6df335c3",
   "metadata": {},
   "outputs": [
    {
     "name": "stdout",
     "output_type": "stream",
     "text": [
      "[118.8750679   87.80241547 461.94262125 ...  18.15373604 563.61430401\n",
      " 106.89561526]\n"
     ]
    }
   ],
   "source": [
    "# make predictions\n",
    "predictions = mlp.predict(x_test)\n",
    "print(predictions)"
   ]
  },
  {
   "cell_type": "code",
   "execution_count": 60,
   "id": "d0cdbb28",
   "metadata": {},
   "outputs": [
    {
     "name": "stdout",
     "output_type": "stream",
     "text": [
      "MSE = 0.023236551205400857\n",
      "R2 = 0.9999993184777332\n"
     ]
    }
   ],
   "source": [
    "print('MSE =',mean_squared_error(y_test,predictions))\n",
    "print('R2 =',r2_score(y_test,predictions))"
   ]
  },
  {
   "cell_type": "markdown",
   "id": "0130966f",
   "metadata": {},
   "source": [
    "The above scores seem good. However, this data includes 'casual' and 'registered' features, these are considered as target prediction also, because the 'cnt' is the sum of these 2 variables. Hence, I will remove these features in the dependent variable list and fit the network again."
   ]
  },
  {
   "cell_type": "markdown",
   "id": "7e1b68e4",
   "metadata": {},
   "source": [
    "#### Remove 'casual', 'registered' columns since these 2 columns are also target variables"
   ]
  },
  {
   "cell_type": "code",
   "execution_count": 140,
   "id": "2968c9b9",
   "metadata": {},
   "outputs": [
    {
     "data": {
      "text/html": [
       "<div>\n",
       "<style scoped>\n",
       "    .dataframe tbody tr th:only-of-type {\n",
       "        vertical-align: middle;\n",
       "    }\n",
       "\n",
       "    .dataframe tbody tr th {\n",
       "        vertical-align: top;\n",
       "    }\n",
       "\n",
       "    .dataframe thead th {\n",
       "        text-align: right;\n",
       "    }\n",
       "</style>\n",
       "<table border=\"1\" class=\"dataframe\">\n",
       "  <thead>\n",
       "    <tr style=\"text-align: right;\">\n",
       "      <th></th>\n",
       "      <th>season</th>\n",
       "      <th>yr</th>\n",
       "      <th>mnth</th>\n",
       "      <th>hr</th>\n",
       "      <th>holiday</th>\n",
       "      <th>weekday</th>\n",
       "      <th>workingday</th>\n",
       "      <th>weathersit</th>\n",
       "      <th>temp</th>\n",
       "      <th>atemp</th>\n",
       "      <th>hum</th>\n",
       "      <th>windspeed</th>\n",
       "      <th>cnt</th>\n",
       "    </tr>\n",
       "    <tr>\n",
       "      <th>instant</th>\n",
       "      <th></th>\n",
       "      <th></th>\n",
       "      <th></th>\n",
       "      <th></th>\n",
       "      <th></th>\n",
       "      <th></th>\n",
       "      <th></th>\n",
       "      <th></th>\n",
       "      <th></th>\n",
       "      <th></th>\n",
       "      <th></th>\n",
       "      <th></th>\n",
       "      <th></th>\n",
       "    </tr>\n",
       "  </thead>\n",
       "  <tbody>\n",
       "    <tr>\n",
       "      <th>1</th>\n",
       "      <td>1</td>\n",
       "      <td>0</td>\n",
       "      <td>1</td>\n",
       "      <td>0</td>\n",
       "      <td>0</td>\n",
       "      <td>6</td>\n",
       "      <td>0</td>\n",
       "      <td>1</td>\n",
       "      <td>0.24</td>\n",
       "      <td>0.2879</td>\n",
       "      <td>0.81</td>\n",
       "      <td>0.0000</td>\n",
       "      <td>16</td>\n",
       "    </tr>\n",
       "    <tr>\n",
       "      <th>2</th>\n",
       "      <td>1</td>\n",
       "      <td>0</td>\n",
       "      <td>1</td>\n",
       "      <td>1</td>\n",
       "      <td>0</td>\n",
       "      <td>6</td>\n",
       "      <td>0</td>\n",
       "      <td>1</td>\n",
       "      <td>0.22</td>\n",
       "      <td>0.2727</td>\n",
       "      <td>0.80</td>\n",
       "      <td>0.0000</td>\n",
       "      <td>40</td>\n",
       "    </tr>\n",
       "    <tr>\n",
       "      <th>3</th>\n",
       "      <td>1</td>\n",
       "      <td>0</td>\n",
       "      <td>1</td>\n",
       "      <td>2</td>\n",
       "      <td>0</td>\n",
       "      <td>6</td>\n",
       "      <td>0</td>\n",
       "      <td>1</td>\n",
       "      <td>0.22</td>\n",
       "      <td>0.2727</td>\n",
       "      <td>0.80</td>\n",
       "      <td>0.0000</td>\n",
       "      <td>32</td>\n",
       "    </tr>\n",
       "    <tr>\n",
       "      <th>4</th>\n",
       "      <td>1</td>\n",
       "      <td>0</td>\n",
       "      <td>1</td>\n",
       "      <td>3</td>\n",
       "      <td>0</td>\n",
       "      <td>6</td>\n",
       "      <td>0</td>\n",
       "      <td>1</td>\n",
       "      <td>0.24</td>\n",
       "      <td>0.2879</td>\n",
       "      <td>0.75</td>\n",
       "      <td>0.0000</td>\n",
       "      <td>13</td>\n",
       "    </tr>\n",
       "    <tr>\n",
       "      <th>5</th>\n",
       "      <td>1</td>\n",
       "      <td>0</td>\n",
       "      <td>1</td>\n",
       "      <td>4</td>\n",
       "      <td>0</td>\n",
       "      <td>6</td>\n",
       "      <td>0</td>\n",
       "      <td>1</td>\n",
       "      <td>0.24</td>\n",
       "      <td>0.2879</td>\n",
       "      <td>0.75</td>\n",
       "      <td>0.0000</td>\n",
       "      <td>1</td>\n",
       "    </tr>\n",
       "    <tr>\n",
       "      <th>...</th>\n",
       "      <td>...</td>\n",
       "      <td>...</td>\n",
       "      <td>...</td>\n",
       "      <td>...</td>\n",
       "      <td>...</td>\n",
       "      <td>...</td>\n",
       "      <td>...</td>\n",
       "      <td>...</td>\n",
       "      <td>...</td>\n",
       "      <td>...</td>\n",
       "      <td>...</td>\n",
       "      <td>...</td>\n",
       "      <td>...</td>\n",
       "    </tr>\n",
       "    <tr>\n",
       "      <th>17375</th>\n",
       "      <td>1</td>\n",
       "      <td>1</td>\n",
       "      <td>12</td>\n",
       "      <td>19</td>\n",
       "      <td>0</td>\n",
       "      <td>1</td>\n",
       "      <td>1</td>\n",
       "      <td>2</td>\n",
       "      <td>0.26</td>\n",
       "      <td>0.2576</td>\n",
       "      <td>0.60</td>\n",
       "      <td>0.1642</td>\n",
       "      <td>119</td>\n",
       "    </tr>\n",
       "    <tr>\n",
       "      <th>17376</th>\n",
       "      <td>1</td>\n",
       "      <td>1</td>\n",
       "      <td>12</td>\n",
       "      <td>20</td>\n",
       "      <td>0</td>\n",
       "      <td>1</td>\n",
       "      <td>1</td>\n",
       "      <td>2</td>\n",
       "      <td>0.26</td>\n",
       "      <td>0.2576</td>\n",
       "      <td>0.60</td>\n",
       "      <td>0.1642</td>\n",
       "      <td>89</td>\n",
       "    </tr>\n",
       "    <tr>\n",
       "      <th>17377</th>\n",
       "      <td>1</td>\n",
       "      <td>1</td>\n",
       "      <td>12</td>\n",
       "      <td>21</td>\n",
       "      <td>0</td>\n",
       "      <td>1</td>\n",
       "      <td>1</td>\n",
       "      <td>1</td>\n",
       "      <td>0.26</td>\n",
       "      <td>0.2576</td>\n",
       "      <td>0.60</td>\n",
       "      <td>0.1642</td>\n",
       "      <td>90</td>\n",
       "    </tr>\n",
       "    <tr>\n",
       "      <th>17378</th>\n",
       "      <td>1</td>\n",
       "      <td>1</td>\n",
       "      <td>12</td>\n",
       "      <td>22</td>\n",
       "      <td>0</td>\n",
       "      <td>1</td>\n",
       "      <td>1</td>\n",
       "      <td>1</td>\n",
       "      <td>0.26</td>\n",
       "      <td>0.2727</td>\n",
       "      <td>0.56</td>\n",
       "      <td>0.1343</td>\n",
       "      <td>61</td>\n",
       "    </tr>\n",
       "    <tr>\n",
       "      <th>17379</th>\n",
       "      <td>1</td>\n",
       "      <td>1</td>\n",
       "      <td>12</td>\n",
       "      <td>23</td>\n",
       "      <td>0</td>\n",
       "      <td>1</td>\n",
       "      <td>1</td>\n",
       "      <td>1</td>\n",
       "      <td>0.26</td>\n",
       "      <td>0.2727</td>\n",
       "      <td>0.65</td>\n",
       "      <td>0.1343</td>\n",
       "      <td>49</td>\n",
       "    </tr>\n",
       "  </tbody>\n",
       "</table>\n",
       "<p>16521 rows × 13 columns</p>\n",
       "</div>"
      ],
      "text/plain": [
       "         season  yr  mnth  hr  holiday  weekday  workingday  weathersit  temp  \\\n",
       "instant                                                                         \n",
       "1             1   0     1   0        0        6           0           1  0.24   \n",
       "2             1   0     1   1        0        6           0           1  0.22   \n",
       "3             1   0     1   2        0        6           0           1  0.22   \n",
       "4             1   0     1   3        0        6           0           1  0.24   \n",
       "5             1   0     1   4        0        6           0           1  0.24   \n",
       "...         ...  ..   ...  ..      ...      ...         ...         ...   ...   \n",
       "17375         1   1    12  19        0        1           1           2  0.26   \n",
       "17376         1   1    12  20        0        1           1           2  0.26   \n",
       "17377         1   1    12  21        0        1           1           1  0.26   \n",
       "17378         1   1    12  22        0        1           1           1  0.26   \n",
       "17379         1   1    12  23        0        1           1           1  0.26   \n",
       "\n",
       "          atemp   hum  windspeed  cnt  \n",
       "instant                                \n",
       "1        0.2879  0.81     0.0000   16  \n",
       "2        0.2727  0.80     0.0000   40  \n",
       "3        0.2727  0.80     0.0000   32  \n",
       "4        0.2879  0.75     0.0000   13  \n",
       "5        0.2879  0.75     0.0000    1  \n",
       "...         ...   ...        ...  ...  \n",
       "17375    0.2576  0.60     0.1642  119  \n",
       "17376    0.2576  0.60     0.1642   89  \n",
       "17377    0.2576  0.60     0.1642   90  \n",
       "17378    0.2727  0.56     0.1343   61  \n",
       "17379    0.2727  0.65     0.1343   49  \n",
       "\n",
       "[16521 rows x 13 columns]"
      ]
     },
     "execution_count": 140,
     "metadata": {},
     "output_type": "execute_result"
    }
   ],
   "source": [
    "predict_df2=predict_df.drop(['registered','casual'], axis=1)\n",
    "predict_df2"
   ]
  },
  {
   "cell_type": "code",
   "execution_count": 141,
   "id": "58f1fd92",
   "metadata": {},
   "outputs": [],
   "source": [
    "#gather up names of all the columns\n",
    "cols2 = predict_df2.columns\n",
    "\n",
    "#set the prediction column and the feature columns for KNN\n",
    "prediction_col2 = 'cnt'\n",
    "feature_cols2 = [c for c in cols2 if c != prediction_col2]\n",
    "\n",
    "x2 = predict_df2[feature_cols2]\n",
    "y2 = predict_df2[prediction_col2]\n",
    "\n",
    "#split the dataset into the train and test data\n",
    "x_train2, x_test2, y_train2, y_test2 = train_test_split(x2, y2, test_size=0.2, random_state=41)"
   ]
  },
  {
   "cell_type": "code",
   "execution_count": 142,
   "id": "8f82dc51",
   "metadata": {},
   "outputs": [],
   "source": [
    "from sklearn.preprocessing import StandardScaler  \n",
    "scaler = StandardScaler()  \n",
    "scaler.fit(x_train2)\n",
    "\n",
    "x_train2 = scaler.transform(x_train2)  \n",
    "x_test2 = scaler.transform(x_test2)  "
   ]
  },
  {
   "cell_type": "code",
   "execution_count": 143,
   "id": "8cc15ce7",
   "metadata": {},
   "outputs": [
    {
     "data": {
      "text/plain": [
       "MLPRegressor(hidden_layer_sizes=(10, 10, 10), max_iter=1000)"
      ]
     },
     "execution_count": 143,
     "metadata": {},
     "output_type": "execute_result"
    }
   ],
   "source": [
    "mlp2 = MLPRegressor(hidden_layer_sizes=(10, 10, 10), max_iter=1000)  \n",
    "mlp2.fit(x_train2, y_train2.values.ravel())  "
   ]
  },
  {
   "cell_type": "code",
   "execution_count": 144,
   "id": "3fce172d",
   "metadata": {},
   "outputs": [
    {
     "name": "stdout",
     "output_type": "stream",
     "text": [
      "[183.29987993 107.72115916 453.33282114 ...  37.54240663 445.59267396\n",
      " 133.60521421]\n"
     ]
    }
   ],
   "source": [
    "predictions2 = mlp2.predict(x_test2)\n",
    "print(predictions2)"
   ]
  },
  {
   "cell_type": "code",
   "execution_count": 145,
   "id": "b022076c",
   "metadata": {},
   "outputs": [
    {
     "name": "stdout",
     "output_type": "stream",
     "text": [
      "MSE = 3206.4589451403053\n",
      "R2 = 0.9059553567381883\n"
     ]
    }
   ],
   "source": [
    "print('MSE =',mean_squared_error(y_test2,predictions2))\n",
    "print('R2 =',r2_score(y_test2,predictions2))"
   ]
  },
  {
   "cell_type": "markdown",
   "id": "d748426e",
   "metadata": {},
   "source": [
    "Well, the R2 score is still good but the MSE is now too big, this means that the model doesn't fit well with the data. Next, I will try with different parameters to try other networks with different architectures."
   ]
  },
  {
   "cell_type": "markdown",
   "id": "50ab0daf",
   "metadata": {},
   "source": [
    "### Try with different architectures"
   ]
  },
  {
   "cell_type": "code",
   "execution_count": 148,
   "id": "8d6702a3",
   "metadata": {},
   "outputs": [
    {
     "name": "stdout",
     "output_type": "stream",
     "text": [
      "[185.06816379 106.28625029 473.90908196 ...   2.67816829 529.15967849\n",
      " 155.45342566]\n",
      "MSE = 2218.2589770765444\n",
      "R2 = 0.9349390159890706\n"
     ]
    }
   ],
   "source": [
    "# First try: increase units of hidden layers:\n",
    "mlp3 = MLPRegressor(hidden_layer_sizes=(20,20,20), max_iter=1000)  \n",
    "mlp3.fit(x_train2, y_train2.values.ravel())  \n",
    "predictions3 = mlp3.predict(x_test2)\n",
    "print(predictions3)\n",
    "print('MSE =',mean_squared_error(y_test2,predictions3))\n",
    "print('R2 =',r2_score(y_test2,predictions3))"
   ]
  },
  {
   "cell_type": "markdown",
   "id": "87d81137",
   "metadata": {},
   "source": [
    "Hmm, it's much worse"
   ]
  },
  {
   "cell_type": "code",
   "execution_count": 149,
   "id": "fe9027b6",
   "metadata": {},
   "outputs": [
    {
     "name": "stdout",
     "output_type": "stream",
     "text": [
      "[157.97521474 115.73364736 387.26921324 ...  27.0252899  524.91108566\n",
      " 145.13301324]\n",
      "MSE = 2044.2330064220491\n",
      "R2 = 0.9400431544198142\n"
     ]
    }
   ],
   "source": [
    "# Second try: increase units of hidden layers. I still work with 'relu' activation function\n",
    "mlp4 = MLPRegressor(hidden_layer_sizes=(30,30,30), max_iter=1000)  \n",
    "mlp4.fit(x_train2, y_train2.values.ravel())  \n",
    "predictions4 = mlp4.predict(x_test2)\n",
    "print(predictions4)\n",
    "print('MSE =',mean_squared_error(y_test2,predictions4))\n",
    "print('R2 =',r2_score(y_test2,predictions4))"
   ]
  },
  {
   "cell_type": "markdown",
   "id": "476d1552",
   "metadata": {},
   "source": [
    "The scores are improved, let's try more"
   ]
  },
  {
   "cell_type": "code",
   "execution_count": 150,
   "id": "431f7354",
   "metadata": {},
   "outputs": [
    {
     "name": "stdout",
     "output_type": "stream",
     "text": [
      "[185.60399724 134.57276733 430.44319523 ...   7.55742872 520.27825939\n",
      " 134.67065589]\n",
      "MSE = 2019.753021392394\n",
      "R2 = 0.9407611462913951\n"
     ]
    }
   ],
   "source": [
    "# Third try: keep the hidden layers and more interations. \n",
    "mlp5 = MLPRegressor(hidden_layer_sizes=(30,30,30), max_iter=1500)  \n",
    "mlp5.fit(x_train2, y_train2.values.ravel())  \n",
    "predictions5 = mlp5.predict(x_test2)\n",
    "print(predictions5)\n",
    "print('MSE =',mean_squared_error(y_test2,predictions5))\n",
    "print('R2 =',r2_score(y_test2,predictions5))"
   ]
  },
  {
   "cell_type": "markdown",
   "id": "3c95deef",
   "metadata": {},
   "source": [
    "The scores are not really different when increase the iterations, I will try a bit more with the number of hidden layers"
   ]
  },
  {
   "cell_type": "code",
   "execution_count": 151,
   "id": "74b9073a",
   "metadata": {},
   "outputs": [
    {
     "name": "stdout",
     "output_type": "stream",
     "text": [
      "[187.39107268 108.91939934 413.30891616 ...   7.58280411 535.9893799\n",
      " 113.46689674]\n",
      "MSE = 1902.9802918698365\n",
      "R2 = 0.9441860614013488\n"
     ]
    }
   ],
   "source": [
    "# Fourth try: keep interations, increase the layers \n",
    "mlp6 = MLPRegressor(hidden_layer_sizes=(30,30,30,30), max_iter=1500)  \n",
    "mlp6.fit(x_train2, y_train2.values.ravel())  \n",
    "predictions6 = mlp6.predict(x_test2)\n",
    "print(predictions6)\n",
    "print('MSE =',mean_squared_error(y_test2,predictions6))\n",
    "print('R2 =',r2_score(y_test2,predictions6))"
   ]
  },
  {
   "cell_type": "code",
   "execution_count": 152,
   "id": "c7f5c9cb",
   "metadata": {},
   "outputs": [
    {
     "name": "stdout",
     "output_type": "stream",
     "text": [
      "[162.99429746 158.52047507 435.27806357 ...   9.55043522 515.1411378\n",
      " 137.17152198]\n",
      "MSE = 1768.2858823201868\n",
      "R2 = 0.948136614928521\n"
     ]
    }
   ],
   "source": [
    "# Fifth try: keep interations, increase the layers \n",
    "mlp7 = MLPRegressor(hidden_layer_sizes=(50,50,50,50), max_iter=1500)  \n",
    "mlp7.fit(x_train2, y_train2.values.ravel())  \n",
    "predictions7 = mlp7.predict(x_test2)\n",
    "print(predictions7)\n",
    "print('MSE =',mean_squared_error(y_test2,predictions7))\n",
    "print('R2 =',r2_score(y_test2,predictions7))"
   ]
  },
  {
   "cell_type": "code",
   "execution_count": 154,
   "id": "0776ff62",
   "metadata": {},
   "outputs": [
    {
     "name": "stdout",
     "output_type": "stream",
     "text": [
      "[178.69353511 115.88814301 456.81627523 ...  18.90143715 547.60662093\n",
      " 119.19457477]\n",
      "MSE = 1987.5674284707454\n",
      "R2 = 0.9417051417256962\n"
     ]
    }
   ],
   "source": [
    "# Sixth try: different numbers of unit\n",
    "mlp8 = MLPRegressor(hidden_layer_sizes=(100,100,100,100), max_iter=1500)  \n",
    "mlp8.fit(x_train2, y_train2.values.ravel())  \n",
    "predictions8 = mlp8.predict(x_test2)\n",
    "print(predictions8)\n",
    "print('MSE =',mean_squared_error(y_test2,predictions8))\n",
    "print('R2 =',r2_score(y_test2,predictions8))"
   ]
  },
  {
   "cell_type": "markdown",
   "id": "fd4cc822",
   "metadata": {},
   "source": [
    "Keeping increasing the unit of each layers equally seems not effective. Let's try different number of units differently between layers."
   ]
  },
  {
   "cell_type": "code",
   "execution_count": 165,
   "id": "393ba6f3",
   "metadata": {},
   "outputs": [
    {
     "name": "stdout",
     "output_type": "stream",
     "text": [
      "[169.30283512 139.33236002 357.42472675 ...  19.82487667 553.22527246\n",
      " 146.27631305]\n",
      "MSE = 1792.7369596065978\n",
      "R2 = 0.9474194709138588\n"
     ]
    }
   ],
   "source": [
    "# 7th try: increase layers\n",
    "mlp9 = MLPRegressor(hidden_layer_sizes=(100,50,30,20), max_iter=1500)  \n",
    "mlp9.fit(x_train2, y_train2.values.ravel())  \n",
    "predictions9 = mlp9.predict(x_test2)\n",
    "print(predictions9)\n",
    "print('MSE =',mean_squared_error(y_test2,predictions9))\n",
    "print('R2 =',r2_score(y_test2,predictions9))"
   ]
  },
  {
   "cell_type": "code",
   "execution_count": null,
   "id": "02c03143",
   "metadata": {},
   "outputs": [],
   "source": [
    "# 7th try: increase layers\n",
    "mlp9 = MLPRegressor(hidden_layer_sizes=(100,50,30,20), max_iter=1500)  \n",
    "mlp9.fit(x_train2, y_train2.values.ravel())  \n",
    "predictions9 = mlp9.predict(x_test2)\n",
    "print(predictions9)\n",
    "print('MSE =',mean_squared_error(y_test2,predictions9))\n",
    "print('R2 =',r2_score(y_test2,predictions9))"
   ]
  },
  {
   "cell_type": "markdown",
   "id": "94f3b7c9",
   "metadata": {},
   "source": [
    "It seems that the scores are no longer improved if I try different architectures with different value of hidden_layer_sizes and max_iter. Now, I will try to find the best parameters with GridSearch"
   ]
  },
  {
   "cell_type": "markdown",
   "id": "67cbad5a",
   "metadata": {},
   "source": [
    "#### Run GridSearchCV to find the best parameters"
   ]
  },
  {
   "cell_type": "code",
   "execution_count": 159,
   "id": "7cefc1d9",
   "metadata": {},
   "outputs": [
    {
     "data": {
      "text/plain": [
       "GridSearchCV(estimator=MLPRegressor(hidden_layer_sizes=(10, 10, 10),\n",
       "                                    max_iter=1000),\n",
       "             param_grid={'activation': ['identity', 'logistic', 'tanh', 'relu'],\n",
       "                         'hidden_layer_sizes': [(50, 50, 50, 50)],\n",
       "                         'learning_rate': ['constant', 'invscaling',\n",
       "                                           'adaptive'],\n",
       "                         'max_iter': [1500], 'solver': ['sgd', 'adam']})"
      ]
     },
     "execution_count": 159,
     "metadata": {},
     "output_type": "execute_result"
    }
   ],
   "source": [
    "from sklearn.model_selection import GridSearchCV\n",
    "params = {'hidden_layer_sizes':[(50,50,50,50)],'solver':['sgd','adam'],'learning_rate':['constant','invscaling','adaptive'],'max_iter':[1500], 'activation': ['identity','logistic', 'tanh', 'relu']}\n",
    "gcv = GridSearchCV(estimator = mlp2, param_grid = params)\n",
    "gcv.fit(x_train2,y_train2)"
   ]
  },
  {
   "cell_type": "code",
   "execution_count": 160,
   "id": "e692a6cb",
   "metadata": {},
   "outputs": [
    {
     "name": "stdout",
     "output_type": "stream",
     "text": [
      "MSE = 1815.2362024941979\n",
      "R2 = 0.9467595737165995\n"
     ]
    }
   ],
   "source": [
    "model = gcv.best_estimator_\n",
    "model.fit(x_train2,y_train2)\n",
    "y_train_pred = model.predict(x_train2)\n",
    "y_test_pred = model.predict(x_test2)\n",
    "print('MSE =',mean_squared_error(y_test2,y_test_pred))\n",
    "print('R2 =',r2_score(y_test2,y_test_pred))"
   ]
  },
  {
   "cell_type": "code",
   "execution_count": 161,
   "id": "79ebaf13",
   "metadata": {},
   "outputs": [
    {
     "data": {
      "text/plain": [
       "{'activation': 'tanh',\n",
       " 'alpha': 0.0001,\n",
       " 'batch_size': 'auto',\n",
       " 'beta_1': 0.9,\n",
       " 'beta_2': 0.999,\n",
       " 'early_stopping': False,\n",
       " 'epsilon': 1e-08,\n",
       " 'hidden_layer_sizes': (50, 50, 50, 50),\n",
       " 'learning_rate': 'constant',\n",
       " 'learning_rate_init': 0.001,\n",
       " 'max_fun': 15000,\n",
       " 'max_iter': 1500,\n",
       " 'momentum': 0.9,\n",
       " 'n_iter_no_change': 10,\n",
       " 'nesterovs_momentum': True,\n",
       " 'power_t': 0.5,\n",
       " 'random_state': None,\n",
       " 'shuffle': True,\n",
       " 'solver': 'adam',\n",
       " 'tol': 0.0001,\n",
       " 'validation_fraction': 0.1,\n",
       " 'verbose': False,\n",
       " 'warm_start': False}"
      ]
     },
     "execution_count": 161,
     "metadata": {},
     "output_type": "execute_result"
    }
   ],
   "source": [
    "model.get_params()\n"
   ]
  },
  {
   "cell_type": "code",
   "execution_count": 164,
   "id": "0781bf2d",
   "metadata": {},
   "outputs": [
    {
     "data": {
      "text/plain": [
       "{'activation': 'relu',\n",
       " 'alpha': 0.0001,\n",
       " 'batch_size': 'auto',\n",
       " 'beta_1': 0.9,\n",
       " 'beta_2': 0.999,\n",
       " 'early_stopping': False,\n",
       " 'epsilon': 1e-08,\n",
       " 'hidden_layer_sizes': (50, 50, 50, 50),\n",
       " 'learning_rate': 'constant',\n",
       " 'learning_rate_init': 0.001,\n",
       " 'max_fun': 15000,\n",
       " 'max_iter': 1500,\n",
       " 'momentum': 0.9,\n",
       " 'n_iter_no_change': 10,\n",
       " 'nesterovs_momentum': True,\n",
       " 'power_t': 0.5,\n",
       " 'random_state': None,\n",
       " 'shuffle': True,\n",
       " 'solver': 'adam',\n",
       " 'tol': 0.0001,\n",
       " 'validation_fraction': 0.1,\n",
       " 'verbose': False,\n",
       " 'warm_start': False}"
      ]
     },
     "execution_count": 164,
     "metadata": {},
     "output_type": "execute_result"
    }
   ],
   "source": [
    "mlp7.get_params()"
   ]
  },
  {
   "cell_type": "markdown",
   "id": "23d7482f",
   "metadata": {},
   "source": [
    "### Summary:\n",
    "* After trying different architectures for the model, and even run a GridSearchCV to find best parameters but it seems the performance of the model selected by GridSearch is still not the best. \n",
    "* Have a quick look we can see that the model 'mlp7' in the fifth try having the best performance with MSE = 1768.3 and R2 = 0.95. Hence, I will choose this as the model for the network to predict bike rental number.\n",
    "* Moreover, comparing 'mlp7' and 'model' chosen by GridSearch, we can see that the activation function 'relu' perform better than 'tanh' with this dataset since other parameters of these 2 models are the same but the activation function."
   ]
  }
 ],
 "metadata": {
  "kernelspec": {
   "display_name": "Python 3 (ipykernel)",
   "language": "python",
   "name": "python3"
  },
  "language_info": {
   "codemirror_mode": {
    "name": "ipython",
    "version": 3
   },
   "file_extension": ".py",
   "mimetype": "text/x-python",
   "name": "python",
   "nbconvert_exporter": "python",
   "pygments_lexer": "ipython3",
   "version": "3.9.12"
  },
  "vscode": {
   "interpreter": {
    "hash": "39986867ab1b00d11b0b9c4f8d7ea013b4bc68161d3a190895f4854ec7698a44"
   }
  }
 },
 "nbformat": 4,
 "nbformat_minor": 5
}
